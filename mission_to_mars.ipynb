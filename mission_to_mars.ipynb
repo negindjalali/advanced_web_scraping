{
 "cells": [
  {
   "cell_type": "code",
   "execution_count": 53,
   "id": "6b32c9b1",
   "metadata": {},
   "outputs": [],
   "source": [
    "import pandas as pd\n",
    "from bs4 import BeautifulSoup\n",
    "import requests\n",
    "from splinter import Browser"
   ]
  },
  {
   "cell_type": "code",
   "execution_count": 54,
   "id": "4b7cd0df",
   "metadata": {},
   "outputs": [],
   "source": [
    "url=\"https://mars.nasa.gov/news/\""
   ]
  },
  {
   "cell_type": "code",
   "execution_count": 55,
   "id": "34eac006",
   "metadata": {},
   "outputs": [
    {
     "name": "stderr",
     "output_type": "stream",
     "text": [
      "\n",
      "\n",
      "====== WebDriver manager ======\n",
      "Current google-chrome version is 93.0.4577\n",
      "Get LATEST driver version for 93.0.4577\n",
      "Driver [/Users/negindjalali/.wdm/drivers/chromedriver/mac64/93.0.4577.63/chromedriver] found in cache\n"
     ]
    }
   ],
   "source": [
    "from webdriver_manager.chrome import ChromeDriverManager\n",
    "def init_browser():\n",
    "    executable_path = {'executable_path': ChromeDriverManager().install()}\n",
    "    return Browser('chrome', **executable_path, headless=False)\n",
    "browser= init_browser()\n",
    "url = 'https://mars.nasa.gov/news/'\n",
    "browser.visit(url)\n",
    "#create HTMl Object\n",
    "html = browser.html\n"
   ]
  },
  {
   "cell_type": "code",
   "execution_count": 56,
   "id": "deb6865f",
   "metadata": {},
   "outputs": [],
   "source": [
    "html = browser.html\n",
    "#parse HTML with beautiful soup\n",
    "soup = BeautifulSoup(html, 'html.parser')"
   ]
  },
  {
   "cell_type": "code",
   "execution_count": 57,
   "id": "bd0a90b4",
   "metadata": {},
   "outputs": [],
   "source": [
    "news_title = soup.find_all('div',class_='content_title')[1].text"
   ]
  },
  {
   "cell_type": "code",
   "execution_count": 60,
   "id": "1724a15c",
   "metadata": {},
   "outputs": [],
   "source": [
    "news_paragraph=soup.find('div',class_='article_teaser_body').text"
   ]
  },
  {
   "cell_type": "code",
   "execution_count": 61,
   "id": "0d3bdcd6",
   "metadata": {},
   "outputs": [
    {
     "name": "stdout",
     "output_type": "stream",
     "text": [
      "NASA's Mars Fleet Lies Low As Sun Moves Between Earth and Red Planet\n",
      "The missions will continue collecting data about the Red Planet, though engineers back on Earth will stop sending commands to them until mid-October.\n"
     ]
    }
   ],
   "source": [
    "print(news_title)\n",
    "print(news_paragraph)"
   ]
  },
  {
   "cell_type": "markdown",
   "id": "0442d8d0",
   "metadata": {},
   "source": [
    "# IMAGE"
   ]
  },
  {
   "cell_type": "code",
   "execution_count": 74,
   "id": "499aad14",
   "metadata": {},
   "outputs": [],
   "source": [
    "url = \"https://data-class-jpl-space.s3.amazonaws.com/JPL_Space/index.html\""
   ]
  },
  {
   "cell_type": "code",
   "execution_count": 83,
   "id": "3a3b8787",
   "metadata": {},
   "outputs": [
    {
     "name": "stderr",
     "output_type": "stream",
     "text": [
      "\n",
      "\n",
      "====== WebDriver manager ======\n",
      "Current google-chrome version is 94.0.4606\n",
      "Get LATEST driver version for 94.0.4606\n",
      "Driver [/Users/negindjalali/.wdm/drivers/chromedriver/mac64/94.0.4606.61/chromedriver] found in cache\n"
     ]
    }
   ],
   "source": [
    "from webdriver_manager.chrome import ChromeDriverManager\n",
    "def init_browser():\n",
    "    executable_path = {'executable_path': ChromeDriverManager().install()}\n",
    "    return Browser('chrome', **executable_path, headless=False)\n",
    "browser= init_browser()\n",
    "url = 'https://data-class-jpl-space.s3.amazonaws.com/JPL_Space/index.html'\n",
    "browser.visit(url)\n",
    "#create HTMl Object\n",
    "html = browser.html"
   ]
  },
  {
   "cell_type": "code",
   "execution_count": 84,
   "id": "fceab7a5",
   "metadata": {},
   "outputs": [],
   "source": [
    "\n",
    "soup = BeautifulSoup(html, \"html.parser\")"
   ]
  },
  {
   "cell_type": "code",
   "execution_count": 85,
   "id": "cd0a9b0c",
   "metadata": {},
   "outputs": [
    {
     "name": "stdout",
     "output_type": "stream",
     "text": [
      "<html class=\"\">\n",
      " <head>\n",
      "  <meta charset=\"utf-8\"/>\n",
      "  <meta content=\"width=device-width, initial-scale=1\" name=\"viewport\"/>\n",
      "  <link href=\"https://maxcdn.bootstrapcdn.com/bootstrap/4.0.0/css/bootstrap.min.css\" rel=\"stylesheet\"/>\n",
      "  <!-- <link rel=\"stylesheet\" type=\"text/css\" href=\"css/font.css\"> -->\n",
      "  <link href=\"css/app.css\" rel=\"stylesheet\" type=\"text/css\"/>\n",
      "  <link href=\"https://stackpath.bootstrapcdn.com/font-awesome/4.7.0/css/font-awesome.min.css\" rel=\"stylesheet\" type=\"text/css\"/>\n",
      "  <title>\n",
      "   Space Image\n",
      "  </title>\n",
      "  <style type=\"text/css\">\n",
      "   .fancybox-margin{margin-right:0px;}\n",
      "  </style>\n",
      " </head>\n",
      " <body>\n",
      "  <div class=\"header\">\n",
      "   <nav class=\"navbar navbar-expand-lg\">\n",
      "    <a class=\"navbar-brand\" href=\"#\">\n",
      "     <img id=\"logo\" src=\"image/nasa.png\"/>\n",
      "     <span class=\"logo\">\n",
      "      Jet Propulsion Laboratory\n",
      "     </span>\n",
      "     <span class=\"logo1\">\n",
      "      California Institute of Technology\n",
      "     </span>\n",
      "    </a>\n",
      "    <button aria-controls=\"navbarNav\" aria-expanded=\"false\" aria-label=\"Toggle navigation\" class=\"navbar-toggler\" data-target=\"#navbarNav\" data-toggle=\"collapse\" type=\"button\">\n",
      "     <span class=\"navbar-toggler-icon\">\n",
      "     </span>\n",
      "    </button>\n",
      "    <div class=\"collapse navbar-collapse justify-content-end\" id=\"navbarNav\">\n",
      "     <ul class=\"navbar-nav\">\n",
      "      <li class=\"nav-item active\">\n",
      "       <a class=\"nav-link\" href=\"#\">\n",
      "        <i aria-hidden=\"true\" class=\"fa fa-bars\">\n",
      "        </i>\n",
      "        MENU\n",
      "        <i aria-hidden=\"true\" class=\"fa fa-search\">\n",
      "        </i>\n",
      "       </a>\n",
      "      </li>\n",
      "     </ul>\n",
      "    </div>\n",
      "   </nav>\n",
      "   <div class=\"floating_text_area\">\n",
      "    <h2 class=\"brand_title\">\n",
      "     FEATURED IMAGE\n",
      "    </h2>\n",
      "    <h1 class=\"media_feature_title\">\n",
      "     Dusty Space Cloud\n",
      "    </h1>\n",
      "    <br/>\n",
      "    <a class=\"showimg fancybox-thumbs\" href=\"image/featured/mars2.jpg\" target=\"_blank\">\n",
      "     <button class=\"btn btn-outline-light\">\n",
      "      FULL IMAGE\n",
      "     </button>\n",
      "    </a>\n",
      "   </div>\n",
      "   <img class=\"headerimage fade-in\" src=\"image/featured/mars2.jpg\"/>\n",
      "  </div>\n",
      "  <div class=\"search sticky\">\n",
      "   <div class=\"col-md-12\">\n",
      "    <div class=\"row\">\n",
      "     <div class=\"col-md-6\">\n",
      "      <input name=\"Search\" placeholder=\"Search\" type=\"text\"/>\n",
      "     </div>\n",
      "     <div class=\"col-md-6\">\n",
      "      <select aria-label=\"Default select example\" class=\"form-select\" id=\"options\">\n",
      "       <option onchange=\"0\" selected=\"\">\n",
      "        Mars\n",
      "       </option>\n",
      "       <!-- <option data-filter=\"sun\" class=\"button\">Mars</option> -->\n",
      "       <option class=\"button\" data-filter=\"Sun\">\n",
      "        Sun\n",
      "       </option>\n",
      "       <option class=\"button\" data-filter=\"earth\">\n",
      "        Earth\n",
      "       </option>\n",
      "       <option class=\"button\" data-filter=\"ida\">\n",
      "        Ida\n",
      "       </option>\n",
      "       <option class=\"button\" data-filter=\"jupiter\">\n",
      "        Jupiter\n",
      "       </option>\n",
      "       <option class=\"button\" data-filter=\"venus\">\n",
      "        Venus\n",
      "       </option>\n",
      "      </select>\n",
      "     </div>\n",
      "    </div>\n",
      "   </div>\n",
      "  </div>\n",
      "  <div class=\"container mt-5\">\n",
      "   <div class=\"col-md-12\">\n",
      "    <div class=\"row\">\n",
      "     <div class=\"col-md-6\">\n",
      "      <h1>\n",
      "       Images\n",
      "      </h1>\n",
      "     </div>\n",
      "     <div class=\"col-md-6\" id=\"icon\">\n",
      "      <div class=\"icon2\">\n",
      "      </div>\n",
      "      <div class=\"icon1\">\n",
      "      </div>\n",
      "     </div>\n",
      "    </div>\n",
      "   </div>\n",
      "   <!-- first div -->\n",
      "   <div class=\"div1\" id=\"filter\">\n",
      "    <div class=\"thmbgroup\">\n",
      "     <a class=\"fancybox-thumbs\" data-fancybox-group=\"thumb\" href=\"image/mars/Icaria Fossae7.jpg\">\n",
      "      <div class=\"thmb\">\n",
      "       <img alt=\"\" class=\"thumbimg\" src=\"image/mars/Icaria Fossae7.jpg\"/>\n",
      "       <p class=\"thumbcontent\">\n",
      "        January 1, 2020\n",
      "        <br/>\n",
      "        Icaria Fossae7\n",
      "       </p>\n",
      "      </div>\n",
      "     </a>\n",
      "     <a class=\"fancybox-thumbs\" data-fancybox-group=\"thumb\" href=\"image/mars/Proctor Crater Dunes 7.jpg\">\n",
      "      <div class=\"thmb\">\n",
      "       <img alt=\"\" class=\"thumbimg\" src=\"image/mars/Proctor Crater Dunes 7.jpg\"/>\n",
      "       <p class=\"thumbcontent\">\n",
      "        December 31, 2020\n",
      "        <br/>\n",
      "        Proctor Crater Dunes\n",
      "       </p>\n",
      "      </div>\n",
      "     </a>\n",
      "     <a class=\"fancybox-thumbs\" data-fancybox-group=\"thumb\" href=\"image/mars/Icaria Fossae7.jpg\">\n",
      "      <div class=\"thmb\">\n",
      "       <img alt=\"\" class=\"thumbimg\" src=\"image/mars/Icaria Fossae7.jpg\"/>\n",
      "       <p class=\"thumbcontent\">\n",
      "        December 31, 2020\n",
      "        <br/>\n",
      "        Icaria Fossae\n",
      "       </p>\n",
      "      </div>\n",
      "     </a>\n",
      "     <a class=\"fancybox-thumbs\" data-fancybox-group=\"thumb\" href=\"image/mars/Proctor Crater Dunes 7.jpg\">\n",
      "      <div class=\"thmb\">\n",
      "       <img alt=\"\" class=\"thumbimg\" src=\"image/mars/Proctor Crater Dunes 7.jpg\"/>\n",
      "       <p class=\"thumbcontent\">\n",
      "        December 29, 2020\n",
      "        <br/>\n",
      "        Proctor Crater Dunes\n",
      "       </p>\n",
      "      </div>\n",
      "     </a>\n",
      "     <a class=\"fancybox-thumbs\" data-fancybox-group=\"thumb\" href=\"image/mars/Proctor Crater Dunes 7.jpg\">\n",
      "      <div class=\"thmb\">\n",
      "       <img alt=\"\" class=\"thumbimg\" src=\"image/mars/Proctor Crater Dunes 7.jpg\"/>\n",
      "       <p class=\"thumbcontent\">\n",
      "        December 28, 2020\n",
      "        <br/>\n",
      "        roctor Crater Dunes\n",
      "       </p>\n",
      "      </div>\n",
      "     </a>\n",
      "     <a class=\"fancybox-thumbs\" data-fancybox-group=\"thumb\" href=\"image/mars/Icaria Fossae7.jpg\">\n",
      "      <div class=\"thmb\">\n",
      "       <img alt=\"\" class=\"thumbimg\" src=\"image/mars/Icaria Fossae7.jpg\"/>\n",
      "       <p class=\"thumbcontent\">\n",
      "        December 22, 2020\n",
      "        <br/>\n",
      "        Icaria Fossae\n",
      "       </p>\n",
      "      </div>\n",
      "     </a>\n",
      "     <a class=\"fancybox-thumbs\" data-fancybox-group=\"thumb\" href=\"image/mars/Icaria Fossae.jpg\">\n",
      "      <div class=\"thmb\">\n",
      "       <img alt=\"\" class=\"thumbimg\" src=\"image/mars/Icaria Fossae.jpg\"/>\n",
      "       <p class=\"thumbcontent\">\n",
      "        December 21, 2020\n",
      "        <br/>\n",
      "        Icaria Fossae\n",
      "       </p>\n",
      "      </div>\n",
      "     </a>\n",
      "     <a class=\"fancybox-thumbs\" data-fancybox-group=\"thumb\" href=\"image/mars/Ariadnes Colles4.jpg\">\n",
      "      <div class=\"thmb\">\n",
      "       <img alt=\"\" class=\"thumbimg\" src=\"image/mars/Ariadnes Colles4.jpg\"/>\n",
      "       <p class=\"thumbcontent\">\n",
      "        December 18, 2020\n",
      "        <br/>\n",
      "        Ariadnes Colles\n",
      "       </p>\n",
      "      </div>\n",
      "     </a>\n",
      "     <a class=\"fancybox-thumbs\" data-fancybox-group=\"thumb\" href=\"image/mars/Niger Vallis.jpg\">\n",
      "      <div class=\"thmb\">\n",
      "       <img alt=\"\" class=\"thumbimg\" src=\"image/mars/Niger Vallis.jpg\"/>\n",
      "       <p class=\"thumbcontent\">\n",
      "        December 17, 2020\n",
      "        <br/>\n",
      "        Niger Vallis\n",
      "       </p>\n",
      "      </div>\n",
      "     </a>\n",
      "     <a class=\"fancybox-thumbs\" data-fancybox-group=\"thumb\" href=\"image/mars/Proctor Crater Dunes.jpg\">\n",
      "      <div class=\"thmb\">\n",
      "       <img alt=\"\" class=\"thumbimg\" src=\"image/mars/Proctor Crater Dunes.jpg\"/>\n",
      "       <p class=\"thumbcontent\">\n",
      "        December 16, 2020\n",
      "        <br/>\n",
      "        Proctor Crater Dunes\n",
      "       </p>\n",
      "      </div>\n",
      "     </a>\n",
      "     <a class=\"fancybox-thumbs\" data-fancybox-group=\"thumb\" href=\"image/mars/Niger Vallis.jpg\">\n",
      "      <div class=\"thmb\">\n",
      "       <img alt=\"\" class=\"thumbimg\" src=\"image/mars/Niger Vallis.jpg\"/>\n",
      "       <p class=\"thumbcontent\">\n",
      "        December 15, 2020\n",
      "        <br/>\n",
      "        Niger Vallis\n",
      "       </p>\n",
      "      </div>\n",
      "     </a>\n",
      "     <a class=\"fancybox-thumbs\" data-fancybox-group=\"thumb\" href=\"image/mars/Daedalia Planum.jpg\">\n",
      "      <div class=\"thmb\">\n",
      "       <img alt=\"\" class=\"thumbimg\" src=\"image/mars/Daedalia Planum.jpg\"/>\n",
      "       <p class=\"thumbcontent\">\n",
      "        December 11, 2020\n",
      "        <br/>\n",
      "        Daedalia Planum\n",
      "       </p>\n",
      "      </div>\n",
      "     </a>\n",
      "     <a class=\"fancybox-thumbs\" data-fancybox-group=\"thumb\" href=\"image/mars/Sirenum Fossae.jpg\">\n",
      "      <div class=\"thmb\">\n",
      "       <img alt=\"\" class=\"thumbimg\" src=\"image/mars/Sirenum Fossae.jpg\"/>\n",
      "       <p class=\"thumbcontent\">\n",
      "        November,11, 2020\n",
      "        <br/>\n",
      "        Sirenum Fossae\n",
      "       </p>\n",
      "      </div>\n",
      "     </a>\n",
      "     <a class=\"fancybox-thumbs\" data-fancybox-group=\"thumb\" href=\"image/mars/Ariadnes Colles4.jpg\">\n",
      "      <div class=\"thmb\">\n",
      "       <img alt=\"\" class=\"thumbimg\" src=\"image/mars/Ariadnes Colles4.jpg\"/>\n",
      "       <p class=\"thumbcontent\">\n",
      "        November,13, 2020\n",
      "        <br/>\n",
      "        Ariadnes Colles\n",
      "       </p>\n",
      "      </div>\n",
      "     </a>\n",
      "     <a class=\"fancybox-thumbs\" data-fancybox-group=\"thumb\" href=\"image/mars/South Polar Cap.jpg\">\n",
      "      <div class=\"thmb\">\n",
      "       <img alt=\"\" class=\"thumbimg\" src=\"image/mars/South Polar Cap.jpg\"/>\n",
      "       <p class=\"thumbcontent\">\n",
      "        November,14, 2020\n",
      "        <br/>\n",
      "        South Polar Cap\n",
      "       </p>\n",
      "      </div>\n",
      "     </a>\n",
      "     <a class=\"fancybox-thumbs\" data-fancybox-group=\"thumb\" href=\"image/mars/Daedalia Planum.jpg\">\n",
      "      <div class=\"thmb\">\n",
      "       <img alt=\"\" class=\"thumbimg\" src=\"image/mars/Daedalia Planum.jpg\"/>\n",
      "       <p class=\"thumbcontent\">\n",
      "        November,17, 2020\n",
      "        <br/>\n",
      "        Daedalia Planum\n",
      "       </p>\n",
      "      </div>\n",
      "     </a>\n",
      "     <a class=\"fancybox-thumbs\" data-fancybox-group=\"thumb\" href=\"image/mars/Ariadnes Colles3.jpg\">\n",
      "      <div class=\"thmb\">\n",
      "       <img alt=\"\" class=\"thumbimg\" src=\"image/mars/Ariadnes Colles3.jpg\"/>\n",
      "       <p class=\"thumbcontent\">\n",
      "        November,11, 2020\n",
      "        <br/>\n",
      "        Ariadnes Colles\n",
      "       </p>\n",
      "      </div>\n",
      "     </a>\n",
      "     <a class=\"fancybox-thumbs\" data-fancybox-group=\"thumb\" href=\"image/mars/Atlantis Chaos.jpg\">\n",
      "      <div class=\"thmb\">\n",
      "       <img alt=\"\" class=\"thumbimg\" src=\"image/mars/Atlantis Chaos.jpg\"/>\n",
      "       <p class=\"thumbcontent\">\n",
      "        November,09, 2020\n",
      "        <br/>\n",
      "        Atlantis Chaos\n",
      "       </p>\n",
      "      </div>\n",
      "     </a>\n",
      "     <a class=\"fancybox-thumbs\" data-fancybox-group=\"thumb\" href=\"image/mars/Daedalia Planum.jpg\">\n",
      "      <div class=\"thmb\">\n",
      "       <img alt=\"\" class=\"thumbimg\" src=\"image/mars/Daedalia Planum.jpg\"/>\n",
      "       <p class=\"thumbcontent\">\n",
      "        January 1, 2020\n",
      "        <br/>\n",
      "        Daedalia Planum\n",
      "       </p>\n",
      "      </div>\n",
      "     </a>\n",
      "     <a class=\"fancybox-thumbs\" data-fancybox-group=\"thumb\" href=\"image/mars/Icaria Fossae.jpg\">\n",
      "      <div class=\"thmb\">\n",
      "       <img alt=\"\" class=\"thumbimg\" src=\"image/mars/Icaria Fossae.jpg\"/>\n",
      "       <p class=\"thumbcontent\">\n",
      "        January 1, 2020\n",
      "        <br/>\n",
      "        Icaria Fossae\n",
      "       </p>\n",
      "      </div>\n",
      "     </a>\n",
      "     <a class=\"fancybox-thumbs\" data-fancybox-group=\"thumb\" href=\"image/mars/Niger Vallis.jpg\">\n",
      "      <div class=\"thmb\">\n",
      "       <img alt=\"\" class=\"thumbimg\" src=\"image/mars/Niger Vallis.jpg\"/>\n",
      "       <p class=\"thumbcontent\">\n",
      "        January 1, 2020\n",
      "        <br/>\n",
      "        Niger Vallis\n",
      "       </p>\n",
      "      </div>\n",
      "     </a>\n",
      "     <a class=\"fancybox-thumbs\" data-fancybox-group=\"thumb\" href=\"image/mars/Proctor Crater Dunes.jpg\">\n",
      "      <div class=\"thmb\">\n",
      "       <img alt=\"\" class=\"thumbimg\" src=\"image/mars/Proctor Crater Dunes.jpg\"/>\n",
      "       <p class=\"thumbcontent\">\n",
      "        January 1, 2020\n",
      "        <br/>\n",
      "        Proctor Crater Dunes\n",
      "       </p>\n",
      "      </div>\n",
      "     </a>\n",
      "     <a class=\"fancybox-thumbs\" data-fancybox-group=\"thumb\" href=\"image/mars/Reull Vallis.jpg\">\n",
      "      <div class=\"thmb\">\n",
      "       <img alt=\"\" class=\"thumbimg\" src=\"image/mars/Reull Vallis.jpg\"/>\n",
      "       <p class=\"thumbcontent\">\n",
      "        January 1, 2020\n",
      "        <br/>\n",
      "        Reull Vallis\n",
      "       </p>\n",
      "      </div>\n",
      "     </a>\n",
      "     <a class=\"fancybox-thumbs\" data-fancybox-group=\"thumb\" href=\"image/mars/Ariadnes Colles3.jpg\">\n",
      "      <div class=\"thmb\">\n",
      "       <img alt=\"\" class=\"thumbimg\" src=\"image/mars/Ariadnes Colles3.jpg\"/>\n",
      "       <p class=\"thumbcontent\">\n",
      "        January 1, 2020\n",
      "        <br/>\n",
      "        Ariadnes Colles\n",
      "       </p>\n",
      "      </div>\n",
      "     </a>\n",
      "     <a class=\"fancybox-thumbs\" data-fancybox-group=\"thumb\" href=\"image/mars/Sirenum Fossae.jpg\">\n",
      "      <div class=\"thmb\">\n",
      "       <img alt=\"\" class=\"thumbimg\" src=\"image/mars/Sirenum Fossae.jpg\"/>\n",
      "       <p class=\"thumbcontent\">\n",
      "        January 1, 2020\n",
      "        <br/>\n",
      "        Sirenum Fossae\n",
      "       </p>\n",
      "      </div>\n",
      "     </a>\n",
      "     <a class=\"fancybox-thumbs\" data-fancybox-group=\"thumb\" href=\"image/mars/South Polar Cap.jpg\">\n",
      "      <div class=\"thmb\">\n",
      "       <img alt=\"\" class=\"thumbimg\" src=\"image/mars/South Polar Cap.jpg\"/>\n",
      "       <p class=\"thumbcontent\">\n",
      "        January 1, 2020\n",
      "        <br/>\n",
      "        South Polar Cap\n",
      "       </p>\n",
      "      </div>\n",
      "     </a>\n",
      "     <a class=\"fancybox-thumbs\" data-fancybox-group=\"thumb\" href=\"image/mars/Niger Vallis.jpg\">\n",
      "      <div class=\"thmb\">\n",
      "       <img alt=\"\" class=\"thumbimg\" src=\"image/mars/Niger Vallis.jpg\"/>\n",
      "       <p class=\"thumbcontent\">\n",
      "        January 1, 2020\n",
      "        <br/>\n",
      "        Niger Vallis\n",
      "       </p>\n",
      "      </div>\n",
      "     </a>\n",
      "     <a class=\"fancybox-thumbs\" data-fancybox-group=\"thumb\" href=\"image/mars/Daedalia Planum.jpg\">\n",
      "      <div class=\"thmb\">\n",
      "       <img alt=\"\" class=\"thumbimg\" src=\"image/mars/Daedalia Planum.jpg\"/>\n",
      "       <p class=\"thumbcontent\">\n",
      "        January 1, 2020\n",
      "        <br/>\n",
      "        Daedalia Planum\n",
      "       </p>\n",
      "      </div>\n",
      "     </a>\n",
      "     <a class=\"fancybox-thumbs\" data-fancybox-group=\"thumb\" href=\"image/mars/Icaria Fossae.jpg\">\n",
      "      <div class=\"thmb\">\n",
      "       <img alt=\"\" class=\"thumbimg\" src=\"image/mars/Icaria Fossae.jpg\"/>\n",
      "       <p class=\"thumbcontent\">\n",
      "        January 1, 2020\n",
      "        <br/>\n",
      "        Icaria Fossae\n",
      "       </p>\n",
      "      </div>\n",
      "     </a>\n",
      "     <a class=\"fancybox-thumbs\" data-fancybox-group=\"thumb\" href=\"image/mars/Ariadnes Colles4.jpg\">\n",
      "      <div class=\"thmb\">\n",
      "       <img alt=\"\" class=\"thumbimg\" src=\"image/mars/Ariadnes Colles4.jpg\"/>\n",
      "       <p class=\"thumbcontent\">\n",
      "        January 1, 2020\n",
      "        <br/>\n",
      "        Ariadnes Colles\n",
      "       </p>\n",
      "      </div>\n",
      "     </a>\n",
      "     <a class=\"fancybox-thumbs\" data-fancybox-group=\"thumb\" href=\"image/mars/South Polar Cap.jpg\">\n",
      "      <div class=\"thmb\">\n",
      "       <img alt=\"\" class=\"thumbimg\" src=\"image/mars/South Polar Cap.jpg\"/>\n",
      "       <p class=\"thumbcontent\">\n",
      "        January 1, 2020\n",
      "        <br/>\n",
      "        South Polar Cap\n",
      "       </p>\n",
      "      </div>\n",
      "     </a>\n",
      "     <a class=\"fancybox-thumbs\" data-fancybox-group=\"thumb\" href=\"image/mars/Daedalia Planum.jpg\">\n",
      "      <div class=\"thmb\">\n",
      "       <img alt=\"\" class=\"thumbimg\" src=\"image/mars/Daedalia Planum.jpg\"/>\n",
      "       <p class=\"thumbcontent\">\n",
      "        January 1, 2020\n",
      "        <br/>\n",
      "        Daedalia Planum\n",
      "       </p>\n",
      "      </div>\n",
      "     </a>\n",
      "    </div>\n",
      "   </div>\n",
      "   <!-- first div ends -->\n",
      "   <!-- second div starts -->\n",
      "   <div class=\"col-md-12 grid-margin\" id=\"column\">\n",
      "    <ul class=\"post-list\">\n",
      "     <li class=\"post-heading\">\n",
      "     </li>\n",
      "    </ul>\n",
      "   </div>\n",
      "   <!-- second div starts -->\n",
      "  </div>\n",
      "  <div class=\"first imgcontainer mt-3\">\n",
      "   <div class=\"col-md-12\">\n",
      "    <div class=\"row\">\n",
      "     <div class=\"col-md-3\">\n",
      "      <img id=\"pic\" src=\"\"/>\n",
      "     </div>\n",
      "    </div>\n",
      "   </div>\n",
      "  </div>\n",
      "  <!-- end -->\n",
      "  <div class=\"module_gallery container\">\n",
      "   <div class=\"col-md-12\">\n",
      "    <div class=\"row\">\n",
      "     <div class=\"col-md-6\">\n",
      "      <div class=\"card\">\n",
      "       <img alt=\"Card image cap\" class=\"card-img-top\" src=\"https://www.jpl.nasa.gov/assets/images/content/tmp/images/jpl_photojournal(3x1).jpg\"/>\n",
      "       <div class=\"card-body\">\n",
      "        <h5 class=\"card-title\">\n",
      "         JPL Photojournal\n",
      "        </h5>\n",
      "        <p class=\"card-text\">\n",
      "         Access to the full library of publicly released images from various Solar System exploration programs\n",
      "        </p>\n",
      "       </div>\n",
      "      </div>\n",
      "     </div>\n",
      "     <div class=\"col-md-6\">\n",
      "      <div class=\"card\">\n",
      "       <img alt=\"Card image cap\" class=\"card-img-top\" src=\"https://www.jpl.nasa.gov/assets/images/content/tmp/images/nasa_images(3x1).jpg\"/>\n",
      "       <div class=\"card-body\">\n",
      "        <h5 class=\"card-title\">\n",
      "         Great images in NASA\n",
      "        </h5>\n",
      "        <p class=\"card-text\">\n",
      "         A selection of the best-known images from a half-century of exploration and discovery\n",
      "        </p>\n",
      "       </div>\n",
      "      </div>\n",
      "     </div>\n",
      "    </div>\n",
      "   </div>\n",
      "  </div>\n",
      "  <div class=\"multi_teaser\">\n",
      "   <div class=\"container\">\n",
      "    <h1>\n",
      "     You Might Also Like\n",
      "    </h1>\n",
      "    <div class=\"col-md-12 mt-5\">\n",
      "     <div class=\"row\">\n",
      "      <div class=\"col-md-4\">\n",
      "       <div class=\"card\">\n",
      "        <img alt=\"Card image cap\" class=\"card-img-top\" src=\"https://imagecache.jpl.nasa.gov/images/640x350/C1-PIA24304---CatScanMars-16-640x350.gif\"/>\n",
      "        <div class=\"card-body\">\n",
      "         <p class=\"card-text\">\n",
      "          Access to the full library of publicly released images from various Solar System exploration programs\n",
      "         </p>\n",
      "        </div>\n",
      "       </div>\n",
      "      </div>\n",
      "      <div class=\"col-md-4\">\n",
      "       <div class=\"card\">\n",
      "        <img alt=\"Card image cap\" class=\"card-img-top\" src=\"https://imagecache.jpl.nasa.gov/images/640x350/PIA23491-16-640x350.jpg\"/>\n",
      "        <div class=\"card-body\">\n",
      "         <p class=\"card-text\">\n",
      "          Access to the full library of publicly released images from various Solar System exploration programs\n",
      "         </p>\n",
      "        </div>\n",
      "       </div>\n",
      "      </div>\n",
      "      <div class=\"col-md-4\">\n",
      "       <div class=\"card\">\n",
      "        <img alt=\"Card image cap\" class=\"card-img-top\" src=\"https://imagecache.jpl.nasa.gov/images/640x350/C1-PIA23180-16-640x350.gif\"/>\n",
      "        <div class=\"card-body\">\n",
      "         <p class=\"card-text\">\n",
      "          Access to the full library of publicly released images from various Solar System exploration programs\n",
      "         </p>\n",
      "        </div>\n",
      "       </div>\n",
      "      </div>\n",
      "     </div>\n",
      "    </div>\n",
      "   </div>\n",
      "  </div>\n",
      "  <div class=\"footer\">\n",
      "   <div class=\"container\">\n",
      "    <div class=\"col-md-12\">\n",
      "     <div class=\"row\">\n",
      "      <div class=\"col-md-3\">\n",
      "       <h4>\n",
      "        About JPL\n",
      "       </h4>\n",
      "       <ul>\n",
      "        <li>\n",
      "         About JPL\n",
      "        </li>\n",
      "        <li>\n",
      "         JPL Vision\n",
      "        </li>\n",
      "        <li>\n",
      "         Executive Council\n",
      "        </li>\n",
      "        <li>\n",
      "         History\n",
      "        </li>\n",
      "       </ul>\n",
      "      </div>\n",
      "      <div class=\"col-md-3\">\n",
      "       <h4>\n",
      "        Education\n",
      "       </h4>\n",
      "       <ul>\n",
      "        <li>\n",
      "         Intern\n",
      "        </li>\n",
      "        <li>\n",
      "         Learn\n",
      "        </li>\n",
      "        <li>\n",
      "         Teach\n",
      "        </li>\n",
      "        <li>\n",
      "         News\n",
      "        </li>\n",
      "       </ul>\n",
      "      </div>\n",
      "      <div class=\"col-md-3\">\n",
      "       <h4>\n",
      "        Our Sites\n",
      "       </h4>\n",
      "       <ul>\n",
      "        <li>\n",
      "         Asteroid Watch\n",
      "        </li>\n",
      "        <li>\n",
      "         Basics of Spaceflight\n",
      "        </li>\n",
      "        <li>\n",
      "         Cassini - Mission to Saturn\n",
      "        </li>\n",
      "        <li>\n",
      "         Climate Kids\n",
      "        </li>\n",
      "       </ul>\n",
      "      </div>\n",
      "      <div class=\"col-md-3\">\n",
      "       <h4>\n",
      "        Galleries\n",
      "       </h4>\n",
      "       <ul>\n",
      "        <li>\n",
      "         JPL Space Images\n",
      "        </li>\n",
      "        <li>\n",
      "         Videos\n",
      "        </li>\n",
      "        <li>\n",
      "         Infographics\n",
      "        </li>\n",
      "        <li>\n",
      "         Photojournal\n",
      "        </li>\n",
      "       </ul>\n",
      "      </div>\n",
      "     </div>\n",
      "    </div>\n",
      "   </div>\n",
      "  </div>\n",
      "  <!--<div class=\"showFullimage\">\n",
      "\t<button class=\"btn btn-outline-light hideimage\" onclick=hideimage()> Close</button>\n",
      "\t<img class=\"fullimage fade-in\" src=\"\">\n",
      "</div>-->\n",
      "  <!-- <script src=\"js/jquery.easeScroll.js\"></script>  -->\n",
      "  <script src=\"js/jquery-3.5.1.min.js\">\n",
      "  </script>\n",
      "  <!-- <script src=\"js/jquery-3.2.1.slim.min.js\"></script> -->\n",
      "  <script src=\"js/demo.js\">\n",
      "  </script>\n",
      "  <!-- <script src=\"js/app.js\"></script> -->\n",
      "  <script src=\"https://cdnjs.cloudflare.com/ajax/libs/popper.js/1.12.9/umd/popper.min.js\">\n",
      "  </script>\n",
      "  <script src=\"https://maxcdn.bootstrapcdn.com/bootstrap/4.0.0/js/bootstrap.min.js\">\n",
      "  </script>\n",
      "  <script src=\"js/fancyBox/jquery.fancybox.pack.js?v=2.1.5\" type=\"text/javascript\">\n",
      "  </script>\n",
      "  <link href=\"js/fancyBox/jquery.fancybox.css?v=2.1.5\" media=\"screen\" rel=\"stylesheet\" type=\"text/css\"/>\n",
      "  <link href=\"js/fancyBox/helpers/jquery.fancybox-thumbs.css?v=1.0.7\" rel=\"stylesheet\" type=\"text/css\"/>\n",
      "  <script src=\"js/fancyBox/helpers/jquery.fancybox-thumbs.js?v=1.0.7\" type=\"text/javascript\">\n",
      "  </script>\n",
      " </body>\n",
      "</html>\n"
     ]
    }
   ],
   "source": [
    "print(soup.prettify())"
   ]
  },
  {
   "cell_type": "code",
   "execution_count": 86,
   "id": "55e44a31",
   "metadata": {},
   "outputs": [
    {
     "data": {
      "text/plain": [
       "<a class=\"showimg fancybox-thumbs\" href=\"image/featured/mars2.jpg\" target=\"_blank\"> <button class=\"btn btn-outline-light\"> FULL IMAGE</button></a>"
      ]
     },
     "execution_count": 86,
     "metadata": {},
     "output_type": "execute_result"
    }
   ],
   "source": [
    "body = soup.find_all(\"body\")\n",
    "div = body[0].find(\"div\", class_=\"floating_text_area\")\n",
    "image = div.find(\"a\")\n",
    "image\n"
   ]
  },
  {
   "cell_type": "code",
   "execution_count": 87,
   "id": "75a1b101",
   "metadata": {},
   "outputs": [
    {
     "data": {
      "text/plain": [
       "'https://data-class-jpl-space.s3.amazonaws.com/JPL_Space/image/featured/mars2.jpg'"
      ]
     },
     "execution_count": 87,
     "metadata": {},
     "output_type": "execute_result"
    }
   ],
   "source": [
    "pic_source = []\n",
    "pic = image['href']\n",
    "pic_source.append(pic)\n",
    "featured_image_url = 'https://data-class-jpl-space.s3.amazonaws.com/JPL_Space/' + pic\n",
    "featured_image_url\n"
   ]
  },
  {
   "cell_type": "markdown",
   "id": "ce383171",
   "metadata": {},
   "source": [
    "# MARS FActs"
   ]
  },
  {
   "cell_type": "code",
   "execution_count": 88,
   "id": "a655be59",
   "metadata": {},
   "outputs": [],
   "source": [
    "url='https://space-facts.com/mars/'"
   ]
  },
  {
   "cell_type": "code",
   "execution_count": 89,
   "id": "ae15884e",
   "metadata": {},
   "outputs": [],
   "source": [
    "response = requests.get(url)"
   ]
  },
  {
   "cell_type": "code",
   "execution_count": 90,
   "id": "e4beb891",
   "metadata": {},
   "outputs": [],
   "source": [
    "soup = BeautifulSoup(response.text, 'html.parser')"
   ]
  },
  {
   "cell_type": "code",
   "execution_count": 91,
   "id": "2b5daec1",
   "metadata": {},
   "outputs": [],
   "source": [
    "table = pd.read_html(url)\n",
    "facts_df = table[0]"
   ]
  },
  {
   "cell_type": "code",
   "execution_count": 92,
   "id": "9cd9e4fe",
   "metadata": {},
   "outputs": [
    {
     "data": {
      "text/html": [
       "<div>\n",
       "<style scoped>\n",
       "    .dataframe tbody tr th:only-of-type {\n",
       "        vertical-align: middle;\n",
       "    }\n",
       "\n",
       "    .dataframe tbody tr th {\n",
       "        vertical-align: top;\n",
       "    }\n",
       "\n",
       "    .dataframe thead th {\n",
       "        text-align: right;\n",
       "    }\n",
       "</style>\n",
       "<table border=\"1\" class=\"dataframe\">\n",
       "  <thead>\n",
       "    <tr style=\"text-align: right;\">\n",
       "      <th></th>\n",
       "      <th>facts</th>\n",
       "      <th>values</th>\n",
       "    </tr>\n",
       "  </thead>\n",
       "  <tbody>\n",
       "    <tr>\n",
       "      <th>0</th>\n",
       "      <td>Equatorial Diameter:</td>\n",
       "      <td>6,792 km</td>\n",
       "    </tr>\n",
       "    <tr>\n",
       "      <th>1</th>\n",
       "      <td>Polar Diameter:</td>\n",
       "      <td>6,752 km</td>\n",
       "    </tr>\n",
       "    <tr>\n",
       "      <th>2</th>\n",
       "      <td>Mass:</td>\n",
       "      <td>6.39 × 10^23 kg (0.11 Earths)</td>\n",
       "    </tr>\n",
       "    <tr>\n",
       "      <th>3</th>\n",
       "      <td>Moons:</td>\n",
       "      <td>2 (Phobos &amp; Deimos)</td>\n",
       "    </tr>\n",
       "    <tr>\n",
       "      <th>4</th>\n",
       "      <td>Orbit Distance:</td>\n",
       "      <td>227,943,824 km (1.38 AU)</td>\n",
       "    </tr>\n",
       "    <tr>\n",
       "      <th>5</th>\n",
       "      <td>Orbit Period:</td>\n",
       "      <td>687 days (1.9 years)</td>\n",
       "    </tr>\n",
       "    <tr>\n",
       "      <th>6</th>\n",
       "      <td>Surface Temperature:</td>\n",
       "      <td>-87 to -5 °C</td>\n",
       "    </tr>\n",
       "    <tr>\n",
       "      <th>7</th>\n",
       "      <td>First Record:</td>\n",
       "      <td>2nd millennium BC</td>\n",
       "    </tr>\n",
       "    <tr>\n",
       "      <th>8</th>\n",
       "      <td>Recorded By:</td>\n",
       "      <td>Egyptian astronomers</td>\n",
       "    </tr>\n",
       "  </tbody>\n",
       "</table>\n",
       "</div>"
      ],
      "text/plain": [
       "                  facts                         values\n",
       "0  Equatorial Diameter:                       6,792 km\n",
       "1       Polar Diameter:                       6,752 km\n",
       "2                 Mass:  6.39 × 10^23 kg (0.11 Earths)\n",
       "3                Moons:            2 (Phobos & Deimos)\n",
       "4       Orbit Distance:       227,943,824 km (1.38 AU)\n",
       "5         Orbit Period:           687 days (1.9 years)\n",
       "6  Surface Temperature:                   -87 to -5 °C\n",
       "7         First Record:              2nd millennium BC\n",
       "8          Recorded By:           Egyptian astronomers"
      ]
     },
     "execution_count": 92,
     "metadata": {},
     "output_type": "execute_result"
    }
   ],
   "source": [
    "facts_df.rename(columns = { 0 :\"facts\",\n",
    "               1 : \"values\"})"
   ]
  },
  {
   "cell_type": "code",
   "execution_count": 93,
   "id": "6dcbf3ef",
   "metadata": {},
   "outputs": [
    {
     "data": {
      "text/plain": [
       "'<table border=\"1\" class=\"dataframe\">  <thead>    <tr style=\"text-align: right;\">      <th></th>      <th>0</th>      <th>1</th>    </tr>  </thead>  <tbody>    <tr>      <th>0</th>      <td>Equatorial Diameter:</td>      <td>6,792 km</td>    </tr>    <tr>      <th>1</th>      <td>Polar Diameter:</td>      <td>6,752 km</td>    </tr>    <tr>      <th>2</th>      <td>Mass:</td>      <td>6.39 × 10^23 kg (0.11 Earths)</td>    </tr>    <tr>      <th>3</th>      <td>Moons:</td>      <td>2 (Phobos &amp; Deimos)</td>    </tr>    <tr>      <th>4</th>      <td>Orbit Distance:</td>      <td>227,943,824 km (1.38 AU)</td>    </tr>    <tr>      <th>5</th>      <td>Orbit Period:</td>      <td>687 days (1.9 years)</td>    </tr>    <tr>      <th>6</th>      <td>Surface Temperature:</td>      <td>-87 to -5 °C</td>    </tr>    <tr>      <th>7</th>      <td>First Record:</td>      <td>2nd millennium BC</td>    </tr>    <tr>      <th>8</th>      <td>Recorded By:</td>      <td>Egyptian astronomers</td>    </tr>  </tbody></table>'"
      ]
     },
     "execution_count": 93,
     "metadata": {},
     "output_type": "execute_result"
    }
   ],
   "source": [
    "facts_html = facts_df.to_html()\n",
    "facts_html = facts_html.replace(\"\\n\",\"\")\n",
    "facts_html"
   ]
  },
  {
   "cell_type": "markdown",
   "id": "fe6ecd22",
   "metadata": {},
   "source": [
    "# IMAGES OF THE HEMISPHERE"
   ]
  },
  {
   "cell_type": "code",
   "execution_count": 94,
   "id": "10789f8d",
   "metadata": {},
   "outputs": [],
   "source": [
    "url = \"https://astrogeology.usgs.gov/search/map/Mars/Viking/cerberus_enhanced\""
   ]
  },
  {
   "cell_type": "code",
   "execution_count": 95,
   "id": "b11368fb",
   "metadata": {},
   "outputs": [],
   "source": [
    "response = requests.get(url)"
   ]
  },
  {
   "cell_type": "code",
   "execution_count": 96,
   "id": "c7fa795a",
   "metadata": {},
   "outputs": [],
   "source": [
    "soup = BeautifulSoup(response.text, \"html.parser\")"
   ]
  },
  {
   "cell_type": "code",
   "execution_count": 97,
   "id": "b6d9f94f",
   "metadata": {},
   "outputs": [],
   "source": [
    "pic = soup.find_all( \"div\", class_ = \"wide-image-wrapper\")\n",
    "image = pic[0].find(\"li\")\n",
    "image_url = image.find(\"a\")['href']"
   ]
  },
  {
   "cell_type": "code",
   "execution_count": 98,
   "id": "baada2e9",
   "metadata": {},
   "outputs": [],
   "source": [
    "hemisphere_title = soup.find(\"h2\", class_=\"title\").text"
   ]
  },
  {
   "cell_type": "code",
   "execution_count": 99,
   "id": "35db7ac8",
   "metadata": {},
   "outputs": [
    {
     "name": "stdout",
     "output_type": "stream",
     "text": [
      "Cerberus Hemisphere Enhanced\n",
      "https://astropedia.astrogeology.usgs.gov/download/Mars/Viking/cerberus_enhanced.tif/full.jpg\n"
     ]
    }
   ],
   "source": [
    "print(hemisphere_title)\n",
    "print(image_url)"
   ]
  },
  {
   "cell_type": "code",
   "execution_count": 100,
   "id": "4b50c265",
   "metadata": {},
   "outputs": [],
   "source": [
    "url_2 = \"https://astrogeology.usgs.gov/search/map/Mars/Viking/schiaparelli_enhanced\""
   ]
  },
  {
   "cell_type": "code",
   "execution_count": 101,
   "id": "f1e7a0ae",
   "metadata": {},
   "outputs": [],
   "source": [
    "response_2 = requests.get(url_2)"
   ]
  },
  {
   "cell_type": "code",
   "execution_count": 102,
   "id": "e3d50209",
   "metadata": {},
   "outputs": [],
   "source": [
    "soup_2 = BeautifulSoup(response_2.text, \"html.parser\")"
   ]
  },
  {
   "cell_type": "code",
   "execution_count": 103,
   "id": "d43ac7f7",
   "metadata": {},
   "outputs": [],
   "source": [
    "pic_2 = soup_2.find_all( \"div\", class_ = \"wide-image-wrapper\")\n",
    "image_2 = pic_2[0].find(\"li\")\n",
    "image_url_2 = image_2.find(\"a\")['href']"
   ]
  },
  {
   "cell_type": "code",
   "execution_count": 104,
   "id": "26bda9b7",
   "metadata": {},
   "outputs": [],
   "source": [
    "hemisphere_title_2 = soup_2.find(\"h2\", class_=\"title\").text"
   ]
  },
  {
   "cell_type": "code",
   "execution_count": 105,
   "id": "97c27be8",
   "metadata": {},
   "outputs": [
    {
     "name": "stdout",
     "output_type": "stream",
     "text": [
      "Schiaparelli Hemisphere Enhanced\n",
      "https://astropedia.astrogeology.usgs.gov/download/Mars/Viking/schiaparelli_enhanced.tif/full.jpg\n"
     ]
    }
   ],
   "source": [
    "print(hemisphere_title_2)\n",
    "print(image_url_2)"
   ]
  },
  {
   "cell_type": "code",
   "execution_count": 106,
   "id": "1f27cb05",
   "metadata": {},
   "outputs": [],
   "source": [
    "url_3=\"https://astrogeology.usgs.gov/search/map/Mars/Viking/syrtis_major_enhanced\""
   ]
  },
  {
   "cell_type": "code",
   "execution_count": 107,
   "id": "024dbf3c",
   "metadata": {},
   "outputs": [],
   "source": [
    "response_3 = requests.get(url_3)\n",
    "soup_3 = BeautifulSoup(response_3.text, \"html.parser\")\n",
    "pic_3 = soup_3.find_all( \"div\", class_ = \"wide-image-wrapper\")\n",
    "image_3 = pic_3[0].find(\"li\")\n",
    "image_url_3 = image_3.find(\"a\")['href']\n",
    "hemisphere_title_3 = soup_3.find(\"h2\", class_=\"title\").text"
   ]
  },
  {
   "cell_type": "code",
   "execution_count": 108,
   "id": "45117642",
   "metadata": {},
   "outputs": [
    {
     "name": "stdout",
     "output_type": "stream",
     "text": [
      "Syrtis Major Hemisphere Enhanced\n",
      "https://astropedia.astrogeology.usgs.gov/download/Mars/Viking/syrtis_major_enhanced.tif/full.jpg\n"
     ]
    }
   ],
   "source": [
    "print(hemisphere_title_3)\n",
    "print(image_url_3)"
   ]
  },
  {
   "cell_type": "code",
   "execution_count": 109,
   "id": "5e03c7a3",
   "metadata": {},
   "outputs": [],
   "source": [
    "url_4=\"https://astrogeology.usgs.gov/search/map/Mars/Viking/valles_marineris_enhanced\""
   ]
  },
  {
   "cell_type": "code",
   "execution_count": 110,
   "id": "554b4c1e",
   "metadata": {},
   "outputs": [],
   "source": [
    "response_4 = requests.get(url_4)\n",
    "soup_4 = BeautifulSoup(response_4.text, \"html.parser\")\n",
    "pic_4 = soup_4.find_all( \"div\", class_ = \"wide-image-wrapper\")\n",
    "image_4 = pic_4[0].find(\"li\")\n",
    "image_url_4 = image_4.find(\"a\")['href']\n",
    "hemisphere_title_4 = soup_4.find(\"h2\", class_=\"title\").text"
   ]
  },
  {
   "cell_type": "code",
   "execution_count": 111,
   "id": "f26d2ba4",
   "metadata": {},
   "outputs": [
    {
     "name": "stdout",
     "output_type": "stream",
     "text": [
      "Valles Marineris Hemisphere Enhanced\n",
      "https://astropedia.astrogeology.usgs.gov/download/Mars/Viking/valles_marineris_enhanced.tif/full.jpg\n"
     ]
    }
   ],
   "source": [
    "print(hemisphere_title_4)\n",
    "print(image_url_4)"
   ]
  },
  {
   "cell_type": "code",
   "execution_count": 112,
   "id": "99a3485e",
   "metadata": {},
   "outputs": [],
   "source": [
    "hemisphere_dict= [\n",
    "    {\"title\":hemisphere_title, \"image_url\":image_url},\n",
    "    {\"title\":hemisphere_title_2, \"image_url\":image_url_2},\n",
    "    {\"title\":hemisphere_title_3, \"image_url\":image_url_3},\n",
    "    {\"title\":hemisphere_title_4, \"image_url\":image_url_4},\n",
    "]"
   ]
  },
  {
   "cell_type": "code",
   "execution_count": 113,
   "id": "070cc349",
   "metadata": {},
   "outputs": [
    {
     "data": {
      "text/plain": [
       "[{'title': 'Cerberus Hemisphere Enhanced',\n",
       "  'image_url': 'https://astropedia.astrogeology.usgs.gov/download/Mars/Viking/cerberus_enhanced.tif/full.jpg'},\n",
       " {'title': 'Schiaparelli Hemisphere Enhanced',\n",
       "  'image_url': 'https://astropedia.astrogeology.usgs.gov/download/Mars/Viking/schiaparelli_enhanced.tif/full.jpg'},\n",
       " {'title': 'Syrtis Major Hemisphere Enhanced',\n",
       "  'image_url': 'https://astropedia.astrogeology.usgs.gov/download/Mars/Viking/syrtis_major_enhanced.tif/full.jpg'},\n",
       " {'title': 'Valles Marineris Hemisphere Enhanced',\n",
       "  'image_url': 'https://astropedia.astrogeology.usgs.gov/download/Mars/Viking/valles_marineris_enhanced.tif/full.jpg'}]"
      ]
     },
     "execution_count": 113,
     "metadata": {},
     "output_type": "execute_result"
    }
   ],
   "source": [
    "hemisphere_dict"
   ]
  },
  {
   "cell_type": "code",
   "execution_count": null,
   "id": "115c1604",
   "metadata": {},
   "outputs": [],
   "source": []
  }
 ],
 "metadata": {
  "kernelspec": {
   "display_name": "Python 3",
   "language": "python",
   "name": "python3"
  },
  "language_info": {
   "codemirror_mode": {
    "name": "ipython",
    "version": 3
   },
   "file_extension": ".py",
   "mimetype": "text/x-python",
   "name": "python",
   "nbconvert_exporter": "python",
   "pygments_lexer": "ipython3",
   "version": "3.8.8"
  }
 },
 "nbformat": 4,
 "nbformat_minor": 5
}
